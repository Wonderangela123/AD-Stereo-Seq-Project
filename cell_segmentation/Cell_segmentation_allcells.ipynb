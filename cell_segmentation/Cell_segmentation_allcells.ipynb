{
 "cells": [
  {
   "cell_type": "code",
   "execution_count": 10,
   "id": "3f3af80b-1854-4302-9aa0-282284505705",
   "metadata": {},
   "outputs": [],
   "source": [
    "import os\n",
    "import paramiko\n",
    "import requests"
   ]
  },
  {
   "cell_type": "code",
   "execution_count": 2,
   "id": "85b43320-ab6c-4213-acd0-8ab03c4f7e5a",
   "metadata": {},
   "outputs": [],
   "source": [
    "def check_remote_file_exists(host, port, username, password, remote_path):\n",
    "    client = paramiko.SSHClient()\n",
    "    client.set_missing_host_key_policy(paramiko.AutoAddPolicy())\n",
    "    \n",
    "    try:\n",
    "        # Connect to the remote server\n",
    "        client.connect(host, port, username, password)\n",
    "\n",
    "        # Command to check if the file or folder exists\n",
    "        command = f'test -e \"{remote_path}\" && echo Exists || echo Does not exist'\n",
    "        stdin, stdout, stderr = client.exec_command(command)\n",
    "\n",
    "        # Read the output\n",
    "        result = stdout.read().decode().strip()\n",
    "        error = stderr.read().decode().strip()\n",
    "\n",
    "        if error:\n",
    "            raise Exception(f\"Error checking file existence: {error}\")\n",
    "\n",
    "        return result == \"Exists\"\n",
    "    finally:\n",
    "        client.close()"
   ]
  },
  {
   "cell_type": "code",
   "execution_count": 3,
   "id": "f87bf051-d817-4d08-b720-4fb843149155",
   "metadata": {},
   "outputs": [],
   "source": [
    "# create the folder\n",
    "def create_folder(host, username, password, remote_path):\n",
    "    client = paramiko.SSHClient()\n",
    "    client.set_missing_host_key_policy(paramiko.AutoAddPolicy())\n",
    "\n",
    "    try:\n",
    "        # Connect to the server\n",
    "        client.connect(host, username=username, password=password)\n",
    "\n",
    "        # Open SFTP session\n",
    "        sftp = client.open_sftp()\n",
    "\n",
    "        # Create the remote directory\n",
    "        sftp.mkdir(remote_path)\n",
    "    except Exception as e:\n",
    "        print(f\"An error occurred: {e}\")\n",
    "    finally:\n",
    "        # Close the SFTP session and SSH connection\n",
    "        if sftp:\n",
    "            sftp.close()\n",
    "        client.close()"
   ]
  },
  {
   "cell_type": "code",
   "execution_count": 4,
   "id": "7d80b6c4-b2c8-418e-8783-bc3f6e90baa9",
   "metadata": {},
   "outputs": [],
   "source": [
    "def upload_file_to_server(host, port, username, password, local_filepath, remote_filepath):\n",
    "    # Initialize the SSH client\n",
    "    ssh_client = paramiko.SSHClient()\n",
    "    ssh_client.set_missing_host_key_policy(paramiko.AutoAddPolicy())\n",
    "\n",
    "    try:\n",
    "        # Connect to the server\n",
    "        ssh_client.connect(hostname=host, port=port, username=username, password=password)\n",
    "\n",
    "        # Initialize SFTP session\n",
    "        with ssh_client.open_sftp() as sftp:\n",
    "            # Upload file\n",
    "            sftp.put(local_filepath, remote_filepath)\n",
    "            print(f\"File uploaded successfully to {remote_filepath}\")\n",
    "\n",
    "    except Exception as e:\n",
    "        print(f\"An error occurred: {e}\")\n",
    "    finally:\n",
    "        # Close the connection\n",
    "        ssh_client.close()"
   ]
  },
  {
   "cell_type": "code",
   "execution_count": 5,
   "id": "697ff74a-31e6-4292-b270-3b1e0761fa5e",
   "metadata": {},
   "outputs": [],
   "source": [
    "# upload the bash data\n",
    "def write_bash_file(sample):\n",
    "    bash = [\n",
    "        \"#!/bin/bash\",\n",
    "        \"#SBATCH --job-name={}    ### Job Name\".format(sample),\n",
    "        \"#SBATCH --output={}.out       ### File in which to store job output\".format(sample),\n",
    "        \"#SBATCH --error={}.err        ### File in which to store job error messages\".format(sample),\n",
    "        \"#SBATCH --qos=normal\",\n",
    "        \"#SBATCH --time=1-00:00:00     ### Wall clock time limit in Days-HH:MM:SS\",\n",
    "        \"#SBATCH --nodes=1             ### Node count required for the job\",\n",
    "        \"#SBATCH --ntasks-per-node=20   ### Number of tasks to be launched per Node\",\n",
    "        \"#SBATCH --partition=centos7\",\n",
    "        \"#SBATCH --mem=128000\",\n",
    "                            \n",
    "        \"module load anaconda3/2023.07\",\n",
    "        \"export CONDA_ENVS_PATH=/lustre/project/hdeng2/ygong/env\",\n",
    "        \"source activate st\",\n",
    "        \n",
    "        \"python segmentation.py\"\n",
    "    ]\n",
    "    with open(\"segmentation.sh\", 'w') as file:\n",
    "        for line in bash:\n",
    "            file.write(line + \"\\n\")"
   ]
  },
  {
   "cell_type": "code",
   "execution_count": 6,
   "id": "432bd0f6-e3de-4358-a907-12ed634073a1",
   "metadata": {},
   "outputs": [],
   "source": [
    "# write the file on the cypress\n",
    "host = \"cypress1.tulane.edu\"\n",
    "username = \"ygong\"\n",
    "password = \"Tul@ne2021\"\n",
    "port = 22\n",
    "\n",
    "# check the folder exist\n",
    "dir_exist = check_remote_file_exists(\n",
    "    host = host, \n",
    "    username = username, \n",
    "    password = password, \n",
    "    port = port, \n",
    "    remote_path = \"/home/ygong/ygong/AD/Stereo/Sample_integration/cell_segmentation\"\n",
    ")\n",
    "\n",
    "# create the folder if not exist\n",
    "if not dir_exist:\n",
    "    create_folder(\n",
    "        host, \n",
    "        username, \n",
    "        password, \n",
    "        \"/home/ygong/ygong/AD/Stereo/Sample_integration/cell_segmentation\"\n",
    "    )"
   ]
  },
  {
   "cell_type": "code",
   "execution_count": 20,
   "id": "3e7b1d8a-bbb9-42e6-9e2b-1c69d7dbac97",
   "metadata": {},
   "outputs": [],
   "source": [
    "for file in os.listdir(\"../../processed_data/\"):\n",
    "    dir_exist = check_remote_file_exists(\n",
    "        host = host, \n",
    "        username = username, \n",
    "        password = password, \n",
    "        port = port, \n",
    "        remote_path = \"/home/ygong/ygong/AD/Stereo/Sample_integration/cell_segmentation/{}\".format(file)\n",
    "    )\n",
    "\n",
    "    if not dir_exist:\n",
    "        create_folder(\n",
    "            host, \n",
    "            username, \n",
    "            password, \n",
    "            \"/home/ygong/ygong/AD/Stereo/Sample_integration/cell_segmentation/{}\".format(file)\n",
    "        )\n",
    "        \n",
    "    # Create Result folder for each sample\n",
    "    dir_exist = check_remote_file_exists(\n",
    "        host = host, \n",
    "        username = username, \n",
    "        password = password, \n",
    "        port = port, \n",
    "        remote_path = \"/home/ygong/ygong/AD/Stereo/Sample_integration/cell_segmentation/{}/Result\".format(file)\n",
    "    )\n",
    "\n",
    "    if not dir_exist:\n",
    "        create_folder(\n",
    "            host, \n",
    "            username, \n",
    "            password, \n",
    "            \"/home/ygong/ygong/AD/Stereo/Sample_integration/cell_segmentation/{}/Result\".format(file)\n",
    "        )"
   ]
  },
  {
   "cell_type": "code",
   "execution_count": 7,
   "id": "bf26e74c-8ccc-4bed-81e9-875fb1a50ae5",
   "metadata": {
    "collapsed": true,
    "jupyter": {
     "outputs_hidden": true
    },
    "scrolled": true
   },
   "outputs": [
    {
     "name": "stdout",
     "output_type": "stream",
     "text": [
      "File uploaded successfully to /home/ygong/ygong/AD/Stereo/Sample_integration/cell_segmentation/C02248B5/segmentation.py\n",
      "File uploaded successfully to /home/ygong/ygong/AD/Stereo/Sample_integration/cell_segmentation/A02092E1/segmentation.py\n",
      "File uploaded successfully to /home/ygong/ygong/AD/Stereo/Sample_integration/cell_segmentation/B01806B5/segmentation.py\n",
      "File uploaded successfully to /home/ygong/ygong/AD/Stereo/Sample_integration/cell_segmentation/B01809A3/segmentation.py\n",
      "File uploaded successfully to /home/ygong/ygong/AD/Stereo/Sample_integration/cell_segmentation/B02009F6/segmentation.py\n",
      "File uploaded successfully to /home/ygong/ygong/AD/Stereo/Sample_integration/cell_segmentation/B01806B6/segmentation.py\n",
      "File uploaded successfully to /home/ygong/ygong/AD/Stereo/Sample_integration/cell_segmentation/B01809A4/segmentation.py\n",
      "File uploaded successfully to /home/ygong/ygong/AD/Stereo/Sample_integration/cell_segmentation/D02175A6/segmentation.py\n",
      "File uploaded successfully to /home/ygong/ygong/AD/Stereo/Sample_integration/cell_segmentation/B02008D2/segmentation.py\n",
      "File uploaded successfully to /home/ygong/ygong/AD/Stereo/Sample_integration/cell_segmentation/B02008C6/segmentation.py\n",
      "File uploaded successfully to /home/ygong/ygong/AD/Stereo/Sample_integration/cell_segmentation/B01809C2/segmentation.py\n",
      "File uploaded successfully to /home/ygong/ygong/AD/Stereo/Sample_integration/cell_segmentation/D02175A4/segmentation.py\n"
     ]
    }
   ],
   "source": [
    "for sample in os.listdir(\"../../processed_data/\"):\n",
    "    with open(\"segmentation.py\", 'w') as file:\n",
    "        with open(\"cell_segmentation_test.py\", \"r\") as file1:\n",
    "            for line_number, line in enumerate(file1, start=1):\n",
    "                file.write(line)\n",
    "            for content in [\"if __name__ == '__main__':\", \"    cell_segmentation('{}')\".format(sample)]:\n",
    "                file.write(content + \"\\n\")\n",
    "    upload_file_to_server(\n",
    "        host = host,\n",
    "        port=22,\n",
    "        username = username, \n",
    "        password = password, \n",
    "        local_filepath= \"segmentation.py\", \n",
    "        remote_filepath = \"/home/ygong/ygong/AD/Stereo/Sample_integration/cell_segmentation/{}/segmentation.py\".format(sample)\n",
    "    )"
   ]
  },
  {
   "cell_type": "code",
   "execution_count": 89,
   "id": "cef384fc-beba-414d-862d-0031a66ffa95",
   "metadata": {
    "collapsed": true,
    "jupyter": {
     "outputs_hidden": true
    },
    "scrolled": true
   },
   "outputs": [
    {
     "name": "stdout",
     "output_type": "stream",
     "text": [
      "File uploaded successfully to /home/ygong/ygong/AD/Stereo/Sample_integration/cell_segmentation/C02248B5/segmentation.sh\n",
      "File uploaded successfully to /home/ygong/ygong/AD/Stereo/Sample_integration/cell_segmentation/A02092E1/segmentation.sh\n",
      "File uploaded successfully to /home/ygong/ygong/AD/Stereo/Sample_integration/cell_segmentation/B01806B5/segmentation.sh\n",
      "File uploaded successfully to /home/ygong/ygong/AD/Stereo/Sample_integration/cell_segmentation/B01809A3/segmentation.sh\n",
      "File uploaded successfully to /home/ygong/ygong/AD/Stereo/Sample_integration/cell_segmentation/B02009F6/segmentation.sh\n",
      "File uploaded successfully to /home/ygong/ygong/AD/Stereo/Sample_integration/cell_segmentation/B01806B6/segmentation.sh\n",
      "File uploaded successfully to /home/ygong/ygong/AD/Stereo/Sample_integration/cell_segmentation/B01809A4/segmentation.sh\n",
      "File uploaded successfully to /home/ygong/ygong/AD/Stereo/Sample_integration/cell_segmentation/D02175A6/segmentation.sh\n",
      "File uploaded successfully to /home/ygong/ygong/AD/Stereo/Sample_integration/cell_segmentation/B02008D2/segmentation.sh\n",
      "File uploaded successfully to /home/ygong/ygong/AD/Stereo/Sample_integration/cell_segmentation/B02008C6/segmentation.sh\n",
      "File uploaded successfully to /home/ygong/ygong/AD/Stereo/Sample_integration/cell_segmentation/B01809C2/segmentation.sh\n",
      "File uploaded successfully to /home/ygong/ygong/AD/Stereo/Sample_integration/cell_segmentation/D02175A4/segmentation.sh\n"
     ]
    }
   ],
   "source": [
    "for sample in os.listdir(\"../../processed_data/\"):\n",
    "    write_bash_file(sample)\n",
    "    upload_file_to_server(\n",
    "        host = host,\n",
    "        port=22,\n",
    "        username = username, \n",
    "        password = password, \n",
    "        local_filepath= \"segmentation.sh\", \n",
    "        remote_filepath = \"/home/ygong/ygong/AD/Stereo/Sample_integration/cell_segmentation/{}/segmentation.sh\".format(sample)\n",
    "    )"
   ]
  },
  {
   "cell_type": "code",
   "execution_count": 12,
   "id": "6e1c225b-5d53-4fb9-9f3f-73818e13a117",
   "metadata": {},
   "outputs": [
    {
     "data": {
      "text/plain": [
       "'/mnt/data_drive2/extra/ygong/Stereo/Stereo/Sample_integration/cell_segmentation'"
      ]
     },
     "execution_count": 12,
     "metadata": {},
     "output_type": "execute_result"
    }
   ],
   "source": []
  },
  {
   "cell_type": "code",
   "execution_count": null,
   "id": "d00bd71d-1439-4f77-9526-36e1aa947c33",
   "metadata": {},
   "outputs": [],
   "source": []
  }
 ],
 "metadata": {
  "kernelspec": {
   "display_name": "Python 3 (ipykernel)",
   "language": "python",
   "name": "python3"
  },
  "language_info": {
   "codemirror_mode": {
    "name": "ipython",
    "version": 3
   },
   "file_extension": ".py",
   "mimetype": "text/x-python",
   "name": "python",
   "nbconvert_exporter": "python",
   "pygments_lexer": "ipython3",
   "version": "3.8.18"
  }
 },
 "nbformat": 4,
 "nbformat_minor": 5
}
