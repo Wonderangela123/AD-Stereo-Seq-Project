{
 "cells": [
  {
   "cell_type": "code",
   "execution_count": 1,
   "id": "9e5e6a7b",
   "metadata": {
    "tags": []
   },
   "outputs": [],
   "source": [
    "# build the image on the cypress\n",
    "# Code: singularity build SAW_7.0.sif docker://stomics/saw:07.0.0\n",
    "# download the singularity image from cypress"
   ]
  },
  {
   "cell_type": "code",
   "execution_count": 1,
   "id": "526ac624",
   "metadata": {},
   "outputs": [],
   "source": [
    "import os\n",
    "import re\n",
    "import shutil"
   ]
  },
  {
   "cell_type": "code",
   "execution_count": 2,
   "id": "264bcf04",
   "metadata": {},
   "outputs": [],
   "source": [
    "def extract_number(filename):\n",
    "    \"\"\" Extracts the number from the filename for sorting. \"\"\"\n",
    "    match = re.search(r'_(\\d+)_', filename)\n",
    "    return int(match.group(1)) if match else 0"
   ]
  },
  {
   "cell_type": "code",
   "execution_count": 3,
   "id": "6f839073",
   "metadata": {},
   "outputs": [],
   "source": [
    "if not os.path.exists(\"process_data1\"):\n",
    "    os.mkdir(\"process_data1\")"
   ]
  },
  {
   "cell_type": "code",
   "execution_count": 4,
   "id": "64a22160",
   "metadata": {},
   "outputs": [],
   "source": [
    "if not os.path.exists(\"process_data1/case\"):\n",
    "    os.mkdir(\"process_data1/case\")\n",
    "if not os.path.exists(\"process_data1/control\"):\n",
    "    os.mkdir(\"process_data1/control\")"
   ]
  },
  {
   "cell_type": "code",
   "execution_count": 5,
   "id": "422b36ee",
   "metadata": {},
   "outputs": [],
   "source": [
    "folder_list = [\"case\", \"control\"]\n",
    "for condition in folder_list:\n",
    "    for sample in os.listdir(condition):\n",
    "        if not os.path.exists(\"process_data1/{}/{}\".format(condition, sample)):\n",
    "            os.mkdir(\"process_data1/{}/{}\".format(condition, sample))"
   ]
  },
  {
   "cell_type": "code",
   "execution_count": 6,
   "id": "0ac189d2-8196-444c-a479-91db4943740b",
   "metadata": {},
   "outputs": [],
   "source": [
    "if not os.path.exists(\"tmp\"):\n",
    "    os.mkdir(\"tmp\")\n",
    "\n",
    "for folder in os.listdir(\"case\"):\n",
    "    if os.path.exists(\"case/{}/{}\".format(folder, folder)):\n",
    "        if os.path.exists(\"tmp/{}\".format(folder)):\n",
    "            shutil.rmtree(\"tmp/{}\".format(folder))\n",
    "        os.rename(\"case/{}/{}\".format(folder, folder), \"tmp/{}\".format(folder))"
   ]
  },
  {
   "cell_type": "code",
   "execution_count": 25,
   "id": "7c3f0d4c",
   "metadata": {},
   "outputs": [],
   "source": [
    "for condition in folder_list:\n",
    "    for sample in os.listdir(condition):\n",
    "        for file in os.listdir(\"{}/{}/00.Rawdata/mask\".format(condition, sample)):\n",
    "            if \".h5\" in file:\n",
    "                mask_file = file\n",
    "        \n",
    "        read1 = []\n",
    "        for reads in os.listdir(\"{}/{}/00.Rawdata/reads/\".format(condition, sample)):\n",
    "            if \"_1\" in reads:\n",
    "                read1.append(\"$dataDir/reads/\" + reads)\n",
    "        read1 = sorted(read1, key=extract_number)\n",
    "        read1 = ','.join(read1)\n",
    "        \n",
    "        read2 = []\n",
    "        for reads in os.listdir(\"{}/{}/00.Rawdata/reads\".format(condition, sample)):\n",
    "            if \"_2\" in reads:\n",
    "                read2.append(\"$dataDir/reads/\" + reads)\n",
    "        read2 = sorted(read2, key=extract_number)        \n",
    "        read2 = ','.join(read2)\n",
    "        \n",
    "        for image in os.listdir(\"{}/{}/00.Rawdata/\".format(condition, sample)):\n",
    "            if \"image\" in image:\n",
    "                for i in os.listdir(\"{}/{}/00.Rawdata/\".format(condition, sample, image)):\n",
    "                    if \"ipr\" in i:\n",
    "                        imageRecordFile = \"{}/{}/00.Rawdata/{}/{}\".format(condition, sample, image, i)\n",
    "\n",
    "        for image in os.listdir(\"{}/{}/00.Rawdata/\".format(condition, sample)):\n",
    "            if \"image\" in image:\n",
    "                for i in os.listdir(\"{}/{}/00.Rawdata/\".format(condition, sample, image)):\n",
    "                    if \".gz\" in i:\n",
    "                        imageCompressedFile = \"{}/{}/00.Rawdata/{}/{}\".format(condition, sample, image, i)\n",
    "\n",
    "        \n",
    "        bash_file = [\n",
    "            \"NUMBA_CACHE_DIR=/work/ygong/Stereo-seq/raw_data/{}/{}\".format(condition, sample),\n",
    "\n",
    "            \"dataDir=/work/ygong/Stereo-seq/raw_data/{}/{}/00.Rawdata\".format(condition, sample),\n",
    "            \"outDir=/work/ygong/Stereo-seq/raw_data/process_data1/{}/{}\".format(condition, sample),\n",
    "\n",
    "            \"export SINGULARITY_BIND=$dataDir,$outDir\",\n",
    "            \"bash /work/ygong/Stereo-seq/raw_data/stereoPipeline.sh \\\\\",\n",
    "            \"-sif /work/ygong/Stereo-seq/raw_data/SAW_7.0.sif \\\\\",\n",
    "            \"-splitCount 1 \\\\\",\n",
    "            \"-maskFile $dataDir/mask/{} \\\\\".format(mask_file),\n",
    "            \"-fq1 {} \\\\\".format(read1),\n",
    "            \"-fq2 {} \\\\\".format(read2),\n",
    "            \"-speciesName human \\\\\",\n",
    "            \"-tissueType brain \\\\\",\n",
    "            \"-refIndex /work/ygong/Stereo-seq/raw_data/reference/human/STAR_SJ100 \\\\\",\n",
    "            \"-annotationFile /work/ygong/Stereo-seq/raw_data/reference/human/genes/genes.gtf \\\\\",\n",
    "            \"-rRNAremove : N \\\\\",\n",
    "            \"-threads 48 \\\\\",\n",
    "            \"-outDir $outDir/result \\\\\",\n",
    "            \"-imageRecordFile imageRecordFile \\\\\",\n",
    "            \"-imageCompressedFile imageCompressedFile \\\\\",\n",
    "            \"-doCellBin Y\"\n",
    "        ]\n",
    "\n",
    "        with open(\"{}/{}/{}_preprocess.sh\".format(condition, sample, sample), \"w\") as file:\n",
    "            for line in bash_file:\n",
    "                file.write(line + \"\\n\")"
   ]
  },
  {
   "cell_type": "code",
   "execution_count": 79,
   "id": "d081fd66-1ed4-4cbb-924e-74116517ec89",
   "metadata": {},
   "outputs": [],
   "source": [
    "for condition in folder_list:\n",
    "    for sample in os.listdir(condition):\n",
    "        run_bash = [\n",
    "            \"#!/bin/bash\",\n",
    "            \"#SBATCH -p checkpt\",\n",
    "            \"#SBATCH -t 1-00:00:00\",\n",
    "            \"#SBATCH -N 1\",\n",
    "            \"#SBATCH -c 48\",\n",
    "            \"#SBATCH -o {}_prepare_out\".format(sample),\n",
    "            \"#SBATCH -e {}_prepare_err\".format(sample),\n",
    "            \"#SBATCH -A loni_momics01\",\n",
    "            \n",
    "            \"source {}_preprocess.sh\".format(sample)\n",
    "        ]\n",
    "\n",
    "        with open(\"{}/{}/{}_bash.sh\".format(condition, sample, sample), \"w\") as file:\n",
    "            for line in run_bash:\n",
    "                file.write(line + \"\\n\")"
   ]
  },
  {
   "cell_type": "code",
   "execution_count": 27,
   "id": "20c2b698-9626-4729-ae77-5adf8fb05150",
   "metadata": {},
   "outputs": [
    {
     "name": "stdout",
     "output_type": "stream",
     "text": [
      "Submitted batch job 401792 estimates 1152 SUs from allocation loni_momics01. Estimated remaining SUs: 3988151\n",
      "JOBID      NAME                PARTITION  TIME_LIMIT  ST  NODES  REASON                                       \n",
      "401792     B02009F6_bash.sh    checkpt    1-00:00:00  PD  1      None                                         \n",
      "Submitted batch job 401793 estimates 1152 SUs from allocation loni_momics01. Estimated remaining SUs: 3988151\n",
      "JOBID      NAME                PARTITION  TIME_LIMIT  ST  NODES  REASON                                       \n",
      "401793     A02092E1_bash.sh    checkpt    1-00:00:00  PD  1      None                                         \n",
      "Submitted batch job 401794 estimates 1152 SUs from allocation loni_momics01. Estimated remaining SUs: 3988151\n",
      "JOBID      NAME                PARTITION  TIME_LIMIT  ST  NODES  REASON                                       \n",
      "401794     B01809C2_bash.sh    checkpt    1-00:00:00  PD  1      None                                         \n",
      "Submitted batch job 401795 estimates 1152 SUs from allocation loni_momics01. Estimated remaining SUs: 3988151\n",
      "JOBID      NAME                PARTITION  TIME_LIMIT  ST  NODES  REASON                                       \n",
      "401795     B02008C6_bash.sh    checkpt    1-00:00:00  PD  1      None                                         \n",
      "Submitted batch job 401796 estimates 1152 SUs from allocation loni_momics01. Estimated remaining SUs: 3988151\n",
      "JOBID      NAME                PARTITION  TIME_LIMIT  ST  NODES  REASON                                       \n",
      "401796     B02008D2_bash.sh    checkpt    1-00:00:00  PD  1      None                                         \n",
      "Submitted batch job 401797 estimates 1152 SUs from allocation loni_momics01. Estimated remaining SUs: 3988151\n",
      "JOBID      NAME                PARTITION  TIME_LIMIT  ST  NODES  REASON                                       \n",
      "401797     C02248B5_bash.sh    checkpt    1-00:00:00  PD  1      None                                         \n",
      "Submitted batch job 401798 estimates 1152 SUs from allocation loni_momics01. Estimated remaining SUs: 3988151\n",
      "JOBID      NAME                PARTITION  TIME_LIMIT  ST  NODES  REASON                                       \n",
      "401798     B01809A4_bash.sh    checkpt    1-00:00:00  PD  1      None                                         \n",
      "Submitted batch job 401799 estimates 1152 SUs from allocation loni_momics01. Estimated remaining SUs: 3988151\n",
      "JOBID      NAME                PARTITION  TIME_LIMIT  ST  NODES  REASON                                       \n",
      "401799     B01809A3_bash.sh    checkpt    1-00:00:00  PD  1      None                                         \n",
      "Submitted batch job 401800 estimates 1152 SUs from allocation loni_momics01. Estimated remaining SUs: 3978935\n",
      "JOBID      NAME                PARTITION  TIME_LIMIT  ST  NODES  REASON                                       \n",
      "401800     B01806B6_bash.sh    checkpt    1-00:00:00  PD  1      None                                         \n",
      "Submitted batch job 401801 estimates 1152 SUs from allocation loni_momics01. Estimated remaining SUs: 3978935\n",
      "JOBID      NAME                PARTITION  TIME_LIMIT  ST  NODES  REASON                                       \n",
      "401801     B01806B5_bash.sh    checkpt    1-00:00:00  PD  1      None                                         \n",
      "Submitted batch job 401802 estimates 1152 SUs from allocation loni_momics01. Estimated remaining SUs: 3978935\n",
      "JOBID      NAME                PARTITION  TIME_LIMIT  ST  NODES  REASON                                       \n",
      "401802     D02175A6_bash.sh    checkpt    1-00:00:00  PD  1      None                                         \n",
      "Submitted batch job 401803 estimates 1152 SUs from allocation loni_momics01. Estimated remaining SUs: 3978935\n",
      "JOBID      NAME                PARTITION  TIME_LIMIT  ST  NODES  REASON                                       \n",
      "401803     D02175A4_bash.sh    checkpt    1-00:00:00  PD  1      None                                         \n"
     ]
    }
   ],
   "source": [
    "for condition in folder_list:\n",
    "    for sample in os.listdir(condition):\n",
    "        current_dir = os.getcwd()\n",
    "        os.chdir(\"{}/{}\".format(condition, sample))\n",
    "        os.system(\"sbatch {}_bash.sh\".format(sample))\n",
    "        os.chdir(current_dir)"
   ]
  },
  {
   "cell_type": "code",
   "execution_count": 20,
   "id": "a0ac7bb4-2db4-42bf-ad0d-168327149c20",
   "metadata": {},
   "outputs": [],
   "source": [
    "read1 = []\n",
    "for read in os.listdir(\"case/A02092E1/00.Rawdata/reads/\"):\n",
    "    if \"_1\" in read:\n",
    "        read1.append(\"$dataDir/\" + read) "
   ]
  },
  {
   "cell_type": "code",
   "execution_count": 21,
   "id": "611e8ca5-911c-4c8a-8fc9-8c6b13e74694",
   "metadata": {},
   "outputs": [
    {
     "data": {
      "text/plain": [
       "'$dataDir/E100072854_L01_57_1.fq.gz,$dataDir/E100072854_L01_58_1.fq.gz,$dataDir/E100072854_L01_59_1.fq.gz,$dataDir/E100072854_L01_60_1.fq.gz,$dataDir/E100072854_L01_61_1.fq.gz,$dataDir/E100072854_L01_62_1.fq.gz,$dataDir/E100072854_L01_63_1.fq.gz,$dataDir/E100072854_L01_64_1.fq.gz'"
      ]
     },
     "execution_count": 21,
     "metadata": {},
     "output_type": "execute_result"
    }
   ],
   "source": [
    "read1 = sorted(read1, key=extract_number)\n",
    "read1 = ','.join(read1)\n",
    "read1"
   ]
  },
  {
   "cell_type": "code",
   "execution_count": null,
   "id": "11e3a0d2-4fe7-4646-b68b-60d41ded2eed",
   "metadata": {},
   "outputs": [],
   "source": [
    "read1_1 = []\n",
    "        for j in read1:\n",
    "            read1_1.append(\"$dataDir/\" + j)\n",
    "        read1_1 = ','.join(read1_1)"
   ]
  }
 ],
 "metadata": {
  "kernelspec": {
   "display_name": "Python 3 (ipykernel)",
   "language": "python",
   "name": "python3"
  },
  "language_info": {
   "codemirror_mode": {
    "name": "ipython",
    "version": 3
   },
   "file_extension": ".py",
   "mimetype": "text/x-python",
   "name": "python",
   "nbconvert_exporter": "python",
   "pygments_lexer": "ipython3",
   "version": "3.11.5"
  }
 },
 "nbformat": 4,
 "nbformat_minor": 5
}
