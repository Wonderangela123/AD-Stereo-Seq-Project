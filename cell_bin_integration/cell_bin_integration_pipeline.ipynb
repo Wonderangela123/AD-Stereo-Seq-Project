{
 "cells": [
  {
   "cell_type": "code",
   "execution_count": null,
   "id": "48f195ef-53f3-417e-81fc-c2365b1f8f47",
   "metadata": {},
   "outputs": [],
   "source": [
    "import stereo as st\n",
    "import os\n",
    "import pandas as pd\n",
    "import seaborn as sns\n",
    "import matplotlib.pyplot as plt"
   ]
  },
  {
   "cell_type": "code",
   "execution_count": null,
   "id": "8d3a6ed8-1d6a-412a-aea9-9bcf766f182b",
   "metadata": {},
   "outputs": [],
   "source": [
    "# extract the expression data from the stereo data\n",
    "data_list = []\n",
    "for num,files in enumerate(os.listdir(\"../processed_data/\")):\n",
    "    print(files)\n",
    "    data_path = \"../processed_data/{}/GeneExpMatrix/{}.cellbin.gef\".format(files, files)\n",
    "    print(data_path)\n",
    "    data_name = files.split(\".\")[0]\n",
    "    data = st.io.read_gef(file_path=data_path, bin_type=\"cell_bins\")\n",
    "    globals()[data_name] = data "
   ]
  },
  {
   "cell_type": "code",
   "execution_count": null,
   "id": "a3fe9c91-56e3-49b0-b5fe-e167f8bc9b36",
   "metadata": {},
   "outputs": [],
   "source": [
    "data_combined = st.utils.data_helper.merge(A02092E1, B02009F6, C02248B5, B02008C6, B02008D2, B01809C2,\n",
    "                                         D02175A4, D02175A6, B01809A3, B01809A4, B01806B5, B01806B6)"
   ]
  },
  {
   "cell_type": "code",
   "execution_count": null,
   "id": "467931c5-f32f-409c-87ea-7d5dbf34096c",
   "metadata": {},
   "outputs": [],
   "source": [
    "data_combined.tl.cal_qc()"
   ]
  },
  {
   "cell_type": "code",
   "execution_count": null,
   "id": "cc78b176-3001-4aef-9353-cbefd3697d21",
   "metadata": {},
   "outputs": [],
   "source": [
    "# test the gene expression\n",
    "total_counts = pd.DataFrame(data_combined.tl.result[\"total_counts\"])\n",
    "genes_counts = pd.DataFrame(data_combined.tl.result[\"n_genes_by_counts\"])\n",
    "pct_mt = pd.DataFrame(data_combined.tl.result[\"pct_counts_mt\"])"
   ]
  },
  {
   "cell_type": "code",
   "execution_count": null,
   "id": "27cc38db-7e01-47fb-9aa5-3d09db20b695",
   "metadata": {},
   "outputs": [],
   "source": [
    "# total counts\n",
    "sns.violinplot(y=total_counts[\"total_counts\"])\n",
    "plt.axhline(y=100, color='r', linestyle='--')\n",
    "plt.axhline(y=1000, color='g', linestyle='-.')\n",
    "plt.title('Total Counts')"
   ]
  },
  {
   "cell_type": "code",
   "execution_count": null,
   "id": "b4d57709-0712-4345-bf75-4923f9d747e1",
   "metadata": {},
   "outputs": [],
   "source": [
    "# Genes per cell\n",
    "sns.violinplot(y=genes_counts[\"n_genes_by_counts\"])\n",
    "plt.axhline(y=3, color='r', linestyle='--')\n",
    "plt.axhline(y=1000, color='g', linestyle='-.')\n",
    "plt.title('Genes Per Cells')"
   ]
  },
  {
   "cell_type": "code",
   "execution_count": null,
   "id": "63831e55-f5b2-4762-ad99-d6a293700712",
   "metadata": {},
   "outputs": [],
   "source": [
    "# Genes per cell\n",
    "sns.violinplot(y=pct_mt[\"pct_counts_mt\"])\n",
    "plt.axhline(y=25, color='g', linestyle='-.')\n",
    "plt.title('MT_PCT_Cell')"
   ]
  },
  {
   "cell_type": "code",
   "execution_count": null,
   "id": "190577ed-080f-4ab1-a722-640c00733316",
   "metadata": {},
   "outputs": [],
   "source": [
    "# filter the cells\n",
    "data_combined.tl.filter_cells(\n",
    "        min_gene=100,\n",
    "        max_gene=1000,\n",
    "        min_n_genes_by_counts=25,\n",
    "        max_n_genes_by_counts=1000,\n",
    "        pct_counts_mt=25,\n",
    "        inplace=True\n",
    "        )"
   ]
  },
  {
   "cell_type": "code",
   "execution_count": null,
   "id": "b1fdd110-0e89-4812-93f1-136942110420",
   "metadata": {},
   "outputs": [],
   "source": [
    "data_combined.tl.raw_checkpoint()"
   ]
  },
  {
   "cell_type": "code",
   "execution_count": null,
   "id": "d74c5617-c6c8-4530-9ee1-25a15c0304d4",
   "metadata": {},
   "outputs": [],
   "source": [
    "data_combined.tl.normalize_total()\n",
    "data_combined.tl.log1p()"
   ]
  },
  {
   "cell_type": "code",
   "execution_count": null,
   "id": "c422b3c4-90ae-4593-b743-33febbff2f3b",
   "metadata": {},
   "outputs": [],
   "source": [
    "data_combined.tl.pca(use_highly_genes=False, n_pcs=50, res_key='pca')"
   ]
  },
  {
   "cell_type": "code",
   "execution_count": null,
   "id": "76350fad-3f21-4569-aec2-60e854a1e496",
   "metadata": {},
   "outputs": [],
   "source": [
    "data_combined.tl.batches_integrate(pca_res_key='pca', res_key='pca_integrated')"
   ]
  },
  {
   "cell_type": "code",
   "execution_count": null,
   "id": "65bf8445-b11a-4d2b-9506-2bb57591865c",
   "metadata": {},
   "outputs": [],
   "source": []
  },
  {
   "cell_type": "code",
   "execution_count": null,
   "id": "b33e8863-c36c-4586-8923-a95fab99426c",
   "metadata": {},
   "outputs": [],
   "source": []
  },
  {
   "cell_type": "code",
   "execution_count": null,
   "id": "0bd94542-5443-4ac9-8514-12a347df2b3a",
   "metadata": {},
   "outputs": [],
   "source": []
  },
  {
   "cell_type": "code",
   "execution_count": null,
   "id": "26d446f8-6bff-424a-a361-cd887d0d1d2b",
   "metadata": {},
   "outputs": [],
   "source": []
  },
  {
   "cell_type": "code",
   "execution_count": null,
   "id": "61af0378-219d-4f50-a2ae-5fc5a59def06",
   "metadata": {},
   "outputs": [],
   "source": []
  },
  {
   "cell_type": "code",
   "execution_count": null,
   "id": "84c02b46-0125-4e9e-9b1d-224aa2528401",
   "metadata": {},
   "outputs": [],
   "source": []
  }
 ],
 "metadata": {
  "kernelspec": {
   "display_name": "Python 3 (ipykernel)",
   "language": "python",
   "name": "python3"
  },
  "language_info": {
   "codemirror_mode": {
    "name": "ipython",
    "version": 3
   },
   "file_extension": ".py",
   "mimetype": "text/x-python",
   "name": "python",
   "nbconvert_exporter": "python",
   "pygments_lexer": "ipython3",
   "version": "3.8.17"
  }
 },
 "nbformat": 4,
 "nbformat_minor": 5
}
