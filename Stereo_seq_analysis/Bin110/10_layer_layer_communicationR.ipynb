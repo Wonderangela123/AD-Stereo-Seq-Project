{
 "cells": [
  {
   "cell_type": "code",
   "execution_count": 3,
   "id": "86938d7b-5fa9-46fc-84ac-3d6936b5c556",
   "metadata": {
    "collapsed": true,
    "jupyter": {
     "outputs_hidden": true
    }
   },
   "outputs": [
    {
     "name": "stderr",
     "output_type": "stream",
     "text": [
      "Loading required package: dplyr\n",
      "\n",
      "\n",
      "Attaching package: ‘dplyr’\n",
      "\n",
      "\n",
      "The following objects are masked from ‘package:stats’:\n",
      "\n",
      "    filter, lag\n",
      "\n",
      "\n",
      "The following objects are masked from ‘package:base’:\n",
      "\n",
      "    intersect, setdiff, setequal, union\n",
      "\n",
      "\n",
      "Loading required package: igraph\n",
      "\n",
      "Warning message:\n",
      "“package ‘igraph’ was built under R version 4.3.1”\n",
      "\n",
      "Attaching package: ‘igraph’\n",
      "\n",
      "\n",
      "The following objects are masked from ‘package:dplyr’:\n",
      "\n",
      "    as_data_frame, groups, union\n",
      "\n",
      "\n",
      "The following objects are masked from ‘package:stats’:\n",
      "\n",
      "    decompose, spectrum\n",
      "\n",
      "\n",
      "The following object is masked from ‘package:base’:\n",
      "\n",
      "    union\n",
      "\n",
      "\n",
      "Loading required package: ggplot2\n",
      "\n",
      "Loading required package: SeuratObject\n",
      "\n",
      "Warning message:\n",
      "“package ‘SeuratObject’ was built under R version 4.3.1”\n",
      "Loading required package: sp\n",
      "\n",
      "Warning message:\n",
      "“package ‘sp’ was built under R version 4.3.2”\n",
      "\n",
      "Attaching package: ‘SeuratObject’\n",
      "\n",
      "\n",
      "The following object is masked from ‘package:BiocGenerics’:\n",
      "\n",
      "    intersect\n",
      "\n",
      "\n",
      "The following object is masked from ‘package:base’:\n",
      "\n",
      "    intersect\n",
      "\n",
      "\n",
      "\n",
      "Attaching package: ‘Seurat’\n",
      "\n",
      "\n",
      "The following object is masked from ‘package:igraph’:\n",
      "\n",
      "    components\n",
      "\n",
      "\n"
     ]
    }
   ],
   "source": [
    "library(CellChat)\n",
    "library(Seurat)\n",
    "library(Matrix)"
   ]
  },
  {
   "cell_type": "code",
   "execution_count": 4,
   "id": "a35a17df-5356-438a-999d-96a479bc83fb",
   "metadata": {
    "collapsed": true,
    "jupyter": {
     "outputs_hidden": true
    }
   },
   "outputs": [
    {
     "data": {
      "text/html": [
       "<table class=\"dataframe\">\n",
       "<caption>A matrix: 2 × 6 of type dbl</caption>\n",
       "<thead>\n",
       "\t<tr><th></th><th scope=col>used</th><th scope=col>(Mb)</th><th scope=col>gc trigger</th><th scope=col>(Mb)</th><th scope=col>max used</th><th scope=col>(Mb)</th></tr>\n",
       "</thead>\n",
       "<tbody>\n",
       "\t<tr><th scope=row>Ncells</th><td>5639227</td><td>301.2</td><td> 10756640</td><td> 574.5</td><td>  10756640</td><td>  574.5</td></tr>\n",
       "\t<tr><th scope=row>Vcells</th><td>9487051</td><td> 72.4</td><td>594752734</td><td>4537.7</td><td>1575569107</td><td>12020.7</td></tr>\n",
       "</tbody>\n",
       "</table>\n"
      ],
      "text/latex": [
       "A matrix: 2 × 6 of type dbl\n",
       "\\begin{tabular}{r|llllll}\n",
       "  & used & (Mb) & gc trigger & (Mb) & max used & (Mb)\\\\\n",
       "\\hline\n",
       "\tNcells & 5639227 & 301.2 &  10756640 &  574.5 &   10756640 &   574.5\\\\\n",
       "\tVcells & 9487051 &  72.4 & 594752734 & 4537.7 & 1575569107 & 12020.7\\\\\n",
       "\\end{tabular}\n"
      ],
      "text/markdown": [
       "\n",
       "A matrix: 2 × 6 of type dbl\n",
       "\n",
       "| <!--/--> | used | (Mb) | gc trigger | (Mb) | max used | (Mb) |\n",
       "|---|---|---|---|---|---|---|\n",
       "| Ncells | 5639227 | 301.2 |  10756640 |  574.5 |   10756640 |   574.5 |\n",
       "| Vcells | 9487051 |  72.4 | 594752734 | 4537.7 | 1575569107 | 12020.7 |\n",
       "\n"
      ],
      "text/plain": [
       "       used    (Mb)  gc trigger (Mb)   max used   (Mb)   \n",
       "Ncells 5639227 301.2  10756640   574.5   10756640   574.5\n",
       "Vcells 9487051  72.4 594752734  4537.7 1575569107 12020.7"
      ]
     },
     "metadata": {},
     "output_type": "display_data"
    }
   ],
   "source": [
    "rm(list = ls())\n",
    "gc()"
   ]
  },
  {
   "cell_type": "code",
   "execution_count": 5,
   "id": "80e05d55-fa78-4dcd-b475-907c8a7dd027",
   "metadata": {},
   "outputs": [],
   "source": [
    "# read the matrix\n",
    "matrix = readMM(\"../Result/R_conversion/integrated_matrix.mtx\")\n",
    "\n",
    "# read the cell and gene names\n",
    "cell_name = read.csv(\"../Result/R_conversion/cell_names.csv\")\n",
    "feature_name = read.csv(\"../Result/R_conversion/gene_names.csv\")\n",
    "\n",
    "# attached the gene and cells to the matrix\n",
    "rownames(matrix) = cell_name$X0\n",
    "colnames(matrix) = feature_name$X0\n",
    "\n",
    "# read the meta\n",
    "meta_info = read.csv(\"../Result/R_conversion/meta_info.csv\")"
   ]
  },
  {
   "cell_type": "code",
   "execution_count": 7,
   "id": "82869b74-9bc7-47d6-9ab5-303cca882301",
   "metadata": {},
   "outputs": [
    {
     "name": "stdout",
     "output_type": "stream",
     "text": [
      "[1] \"Create a CellChat object from a data matrix\"\n",
      "The cell barcodes in 'meta' is  1 2 3 4 5 6 \n"
     ]
    },
    {
     "name": "stderr",
     "output_type": "stream",
     "text": [
      "Warning message in createCellChat(object = t(matrix), meta = meta_info, group.by = \"annotation\"):\n",
      "“The cell barcodes in 'meta' is different from those in the used data matrix.\n",
      "              We now simply assign the colnames in the data matrix to the rownames of 'mata'!”\n"
     ]
    },
    {
     "name": "stdout",
     "output_type": "stream",
     "text": [
      "Set cell identities for the new CellChat object \n",
      "The cell groups used for CellChat analysis are  L1, L2/3, L4, L5, L6, WM \n"
     ]
    }
   ],
   "source": [
    "# create the cellchat object\n",
    "cellchat <- createCellChat(object = t(matrix), meta = meta_info, group.by = \"annotation\")"
   ]
  },
  {
   "cell_type": "code",
   "execution_count": 8,
   "id": "6e5eec46-1624-42d8-ad13-b2922a19d8c4",
   "metadata": {},
   "outputs": [
    {
     "data": {
      "text/html": [
       "<style>\n",
       ".list-inline {list-style: none; margin:0; padding: 0}\n",
       ".list-inline>li {display: inline-block}\n",
       ".list-inline>li:not(:last-child)::after {content: \"\\00b7\"; padding: 0 .5ex}\n",
       "</style>\n",
       "<ol class=list-inline><li>'L1'</li><li>'L2/3'</li><li>'L4'</li><li>'L5'</li><li>'L6'</li><li>'WM'</li></ol>\n"
      ],
      "text/latex": [
       "\\begin{enumerate*}\n",
       "\\item 'L1'\n",
       "\\item 'L2/3'\n",
       "\\item 'L4'\n",
       "\\item 'L5'\n",
       "\\item 'L6'\n",
       "\\item 'WM'\n",
       "\\end{enumerate*}\n"
      ],
      "text/markdown": [
       "1. 'L1'\n",
       "2. 'L2/3'\n",
       "3. 'L4'\n",
       "4. 'L5'\n",
       "5. 'L6'\n",
       "6. 'WM'\n",
       "\n",
       "\n"
      ],
      "text/plain": [
       "[1] \"L1\"   \"L2/3\" \"L4\"   \"L5\"   \"L6\"   \"WM\"  "
      ]
     },
     "metadata": {},
     "output_type": "display_data"
    }
   ],
   "source": [
    "cellchat <- addMeta(cellchat, meta = meta_info)\n",
    "cellchat <- setIdent(cellchat, ident.use = \"annotation\") # set \"labels\" as default cell identity\n",
    "levels(cellchat@idents) # show factor levels of the cell labels\n",
    "groupSize <- as.numeric(table(cellchat@idents)) # number of cells in each cell group"
   ]
  },
  {
   "cell_type": "code",
   "execution_count": 9,
   "id": "5e745f62-db46-4432-839e-902ab00c846a",
   "metadata": {},
   "outputs": [
    {
     "data": {
      "image/png": "[encoded data removed]",
      "text/plain": [
       "plot without title"
      ]
     },
     "metadata": {
      "image/png": {
       "height": 420,
       "width": 420
      }
     },
     "output_type": "display_data"
    }
   ],
   "source": [
    "# set the ligand-receptor interaction database\n",
    "CellChatDB <- CellChatDB.human # use CellChatDB.mouse if running on mouse data\n",
    "showDatabaseCategory(CellChatDB)"
   ]
  },
  {
   "cell_type": "code",
   "execution_count": 10,
   "id": "ff4867ff-d0da-48b8-a2e7-9dc5180e25da",
   "metadata": {
    "collapsed": true,
    "jupyter": {
     "outputs_hidden": true
    },
    "scrolled": true
   },
   "outputs": [
    {
     "name": "stdout",
     "output_type": "stream",
     "text": [
      "Rows: 3,249\n",
      "Columns: 28\n",
      "$ interaction_name         \u001b[3m\u001b[90m<chr>\u001b[39m\u001b[23m \"TGFB1_TGFBR1_TGFBR2\", \"TGFB2_TGFBR1_TGFBR2\",…\n",
      "$ pathway_name             \u001b[3m\u001b[90m<chr>\u001b[39m\u001b[23m \"TGFb\", \"TGFb\", \"TGFb\", \"TGFb\", \"TGFb\", \"TGFb…\n",
      "$ ligand                   \u001b[3m\u001b[90m<chr>\u001b[39m\u001b[23m \"TGFB1\", \"TGFB2\", \"TGFB3\", \"TGFB1\", \"TGFB1\", …\n",
      "$ receptor                 \u001b[3m\u001b[90m<chr>\u001b[39m\u001b[23m \"TGFbR1_R2\", \"TGFbR1_R2\", \"TGFbR1_R2\", \"ACVR1…\n",
      "$ agonist                  \u001b[3m\u001b[90m<chr>\u001b[39m\u001b[23m \"TGFb agonist\", \"TGFb agonist\", \"TGFb agonist…\n",
      "$ antagonist               \u001b[3m\u001b[90m<chr>\u001b[39m\u001b[23m \"TGFb antagonist\", \"TGFb antagonist\", \"TGFb a…\n",
      "$ co_A_receptor            \u001b[3m\u001b[90m<chr>\u001b[39m\u001b[23m \"\", \"\", \"\", \"\", \"\", \"\", \"\", \"\", \"\", \"\", \"\", \"…\n",
      "$ co_I_receptor            \u001b[3m\u001b[90m<chr>\u001b[39m\u001b[23m \"TGFb inhibition receptor\", \"TGFb inhibition …\n",
      "$ evidence                 \u001b[3m\u001b[90m<chr>\u001b[39m\u001b[23m \"KEGG: hsa04350\", \"KEGG: hsa04350\", \"KEGG: hs…\n",
      "$ annotation               \u001b[3m\u001b[90m<chr>\u001b[39m\u001b[23m \"Secreted Signaling\", \"Secreted Signaling\", \"…\n",
      "$ interaction_name_2       \u001b[3m\u001b[90m<chr>\u001b[39m\u001b[23m \"TGFB1 - (TGFBR1+TGFBR2)\", \"TGFB2 - (TGFBR1+T…\n",
      "$ is_neurotransmitter      \u001b[3m\u001b[90m<lgl>\u001b[39m\u001b[23m FALSE, FALSE, FALSE, FALSE, FALSE, FALSE, FAL…\n",
      "$ ligand.symbol            \u001b[3m\u001b[90m<chr>\u001b[39m\u001b[23m \"TGFB1\", \"TGFB2\", \"TGFB3\", \"TGFB1\", \"TGFB1\", …\n",
      "$ ligand.family            \u001b[3m\u001b[90m<chr>\u001b[39m\u001b[23m \"TGF-beta\", \"TGF-beta\", \"TGF-beta\", \"TGF-beta…\n",
      "$ ligand.location          \u001b[3m\u001b[90m<chr>\u001b[39m\u001b[23m \"Extracellular matrix, Secreted, Extracellula…\n",
      "$ ligand.keyword           \u001b[3m\u001b[90m<chr>\u001b[39m\u001b[23m \"Disease variant, Signal, Reference proteome,…\n",
      "$ ligand.secreted_type     \u001b[3m\u001b[90m<chr>\u001b[39m\u001b[23m \"growth factor\", \"growth factor\", \"cytokine;g…\n",
      "$ ligand.transmembrane     \u001b[3m\u001b[90m<lgl>\u001b[39m\u001b[23m FALSE, FALSE, TRUE, FALSE, FALSE, FALSE, FALS…\n",
      "$ receptor.symbol          \u001b[3m\u001b[90m<chr>\u001b[39m\u001b[23m \"TGFBR2, TGFBR1\", \"TGFBR2, TGFBR1\", \"TGFBR2, …\n",
      "$ receptor.family          \u001b[3m\u001b[90m<chr>\u001b[39m\u001b[23m \"Protein kinase superfamily, TKL Ser/Thr prot…\n",
      "$ receptor.location        \u001b[3m\u001b[90m<chr>\u001b[39m\u001b[23m \"Cell membrane, Secreted, Membrane raft, Cell…\n",
      "$ receptor.keyword         \u001b[3m\u001b[90m<chr>\u001b[39m\u001b[23m \"Membrane, Secreted, Disulfide bond, Kinase, …\n",
      "$ receptor.surfaceome_main \u001b[3m\u001b[90m<chr>\u001b[39m\u001b[23m \"Receptors\", \"Receptors\", \"Receptors\", \"Recep…\n",
      "$ receptor.surfaceome_sub  \u001b[3m\u001b[90m<chr>\u001b[39m\u001b[23m \"Act.TGFB;Kinase\", \"Act.TGFB;Kinase\", \"Act.TG…\n",
      "$ receptor.adhesome        \u001b[3m\u001b[90m<chr>\u001b[39m\u001b[23m \"\", \"\", \"\", \"\", \"\", \"\", \"\", \"\", \"\", \"\", \"\", \"…\n",
      "$ receptor.secreted_type   \u001b[3m\u001b[90m<chr>\u001b[39m\u001b[23m \"\", \"\", \"\", \"\", \"\", \"\", \"\", \"\", \"\", \"\", \"\", \"…\n",
      "$ receptor.transmembrane   \u001b[3m\u001b[90m<lgl>\u001b[39m\u001b[23m TRUE, TRUE, TRUE, TRUE, TRUE, TRUE, TRUE, TRU…\n",
      "$ version                  \u001b[3m\u001b[90m<chr>\u001b[39m\u001b[23m \"CellChatDB v1\", \"CellChatDB v1\", \"CellChatDB…\n"
     ]
    }
   ],
   "source": [
    "dplyr::glimpse(CellChatDB$interaction)\n",
    "\n",
    "# use a subset of CellChatDB for cell-cell communication analysis\n",
    "CellChatDB.use <- subsetDB(CellChatDB, search = \"Secreted Signaling\", key = \"annotation\") # use Secreted Signaling\n",
    "# use all CellChatDB for cell-cell communication analysis\n",
    "# CellChatDB.use <- CellChatDB # simply use the default CellChatDB\n",
    "\n",
    "# set the used database in the object\n",
    "cellchat@DB <- CellChatDB.use"
   ]
  },
  {
   "cell_type": "code",
   "execution_count": null,
   "id": "0aaaf06b-c8b4-448f-86df-b200df54e39c",
   "metadata": {},
   "outputs": [
    {
     "name": "stderr",
     "output_type": "stream",
     "text": [
      "Warning message in asMethod(object):\n",
      "“sparse->dense coercion: allocating vector of size 1.4 GiB”\n"
     ]
    }
   ],
   "source": [
    "cellchat <- subsetData(cellchat) # This step is necessary even if using the whole database\n",
    "future::plan(\"multisession\", workers = 8) # do parallel\n",
    "cellchat <- identifyOverExpressedGenes(cellchat)\n",
    "cellchat <- identifyOverExpressedInteractions(cellchat)\n"
   ]
  },
  {
   "cell_type": "code",
   "execution_count": null,
   "id": "f08592e3-bf18-42ce-a13d-2619c5fec5e8",
   "metadata": {},
   "outputs": [],
   "source": []
  }
 ],
 "metadata": {
  "kernelspec": {
   "display_name": "R",
   "language": "R",
   "name": "ir"
  },
  "language_info": {
   "codemirror_mode": "r",
   "file_extension": ".r",
   "mimetype": "text/x-r-source",
   "name": "R",
   "pygments_lexer": "r",
   "version": "4.3.0"
  }
 },
 "nbformat": 4,
 "nbformat_minor": 5
}
